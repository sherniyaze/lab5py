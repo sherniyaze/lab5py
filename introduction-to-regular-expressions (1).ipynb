{
 "cells": [
  {
   "cell_type": "code",
   "execution_count": 2,
   "metadata": {
    "_cell_guid": "14db5d77-3883-4e09-998d-3e2ef31cd5f2",
    "_uuid": "7aa95fc721ec7fbbbe5d61fae0619f1e164e284c",
    "collapsed": true
   },
   "outputs": [],
   "source": [
    "import re"
   ]
  },
  {
   "cell_type": "code",
   "execution_count": 3,
   "metadata": {
    "_cell_guid": "4737525e-e473-44da-8efe-e6dab09cc163",
    "_uuid": "6c3992403d1e1b1183ba51e8b374e804ef7ec971"
   },
   "outputs": [
    {
     "name": "stdout",
     "output_type": "stream",
     "text": [
      "I would like some pie.\n",
      "I would like some pie.\n"
     ]
    }
   ],
   "source": [
    "print('I would like some vegetables.'.replace('vegetables', 'pie'))\n",
    "print(re.sub('vegetables', 'pie', 'I would like some vegetables.'))"
   ]
  },
  {
   "cell_type": "markdown",
   "metadata": {
    "_cell_guid": "0e24a63b-03f5-477b-ae41-0a7ad232c74f",
    "_uuid": "f27dd7e6da6d4ecd2182fecd232ab4f768ec87d7"
   },
   "source": [
    "The advantages of regex start to become more clear if we need to make more than one replacement:"
   ]
  },
  {
   "cell_type": "code",
   "execution_count": 4,
   "metadata": {
    "_cell_guid": "646633e9-2ee4-46f2-b0ce-57bdc1d18ceb",
    "_uuid": "4f70b27da16c983ed7be7dfd8c96db8ecb4b8772"
   },
   "outputs": [
    {
     "name": "stdout",
     "output_type": "stream",
     "text": [
      "I would like some pie, pie, and pie.\n",
      "I would like some pie, pie, and pie.\n"
     ]
    }
   ],
   "source": [
    "veggie_request = 'I would like some vegetables, vitamins, and water.'\n",
    "print(veggie_request.replace('vegetables', 'pie')\n",
    "    .replace('vitamins', 'pie')\n",
    "    .replace('water', 'pie'))\n",
    "print(re.sub('vegetables|vitamins|water', 'pie', veggie_request))"
   ]
  },
  {
   "cell_type": "markdown",
   "metadata": {
    "_cell_guid": "040c32b2-2faf-4405-8c3a-bde5f863abf7",
    "_uuid": "0b32b3d1512d2ee2cb77127b10350e8034f8cf42"
   },
   "source": [
    "I used the metacharacter `|`, the regex \"or\" operator, to shorten the command. Metacharacters signify a special regex command and don't match themselves unless escaped with `\\`. We won't go over the other metacharacters here, so I highly recommend looking at the basics section of [the cheat sheet](https://www.debuggex.com/cheatsheet/regex/python) when you tackle the exercises.\n",
    "\n",
    "### Character Classes\n",
    "Suppose we want to match a specific set of characters. `Re` offers several built in sets, plus the ability to build our own custom version. For example, the special character `\\D` matches all non-digit characters and makes it trivial to do do basic phone number cleanup:"
   ]
  },
  {
   "cell_type": "code",
   "execution_count": 4,
   "metadata": {
    "_cell_guid": "fd6539f0-69ac-49d8-be5d-cd28bd26abcc",
    "_uuid": "a00e1473323619ce5944754dc3a29c860acf5f38"
   },
   "outputs": [
    {
     "name": "stdout",
     "output_type": "stream",
     "text": [
      "1234567890\n"
     ]
    }
   ],
   "source": [
    "messy_phone_number = '(123) 456-7890'\n",
    "print(re.sub(r'\\D', '', messy_phone_number))"
   ]
  },
  {
   "cell_type": "markdown",
   "metadata": {
    "_cell_guid": "56f0d635-6b22-4910-b2b2-7410131cb151",
    "_uuid": "06f661369d800ef084842d7f6db1929155e94560"
   },
   "source": [
    "You may have noticed that I the added raw string prefix `r` before my pattern. This allows us to specify special characters with a single `\\` rather than `\\\\`. [Raw string notation (r\"text\") keeps regular expressions sane](https://docs.python.org/3/library/re.html#raw-string-notation); use them by default.\n",
    "\n",
    "If we take a second look at the example above, you'll notice that it strips out too much data for some use cases. If a user entered some letters into the phone number, we might want to raise an error for that entry rather than try to clean it up. A better option is to define a custom character set to narrow down what we delete. "
   ]
  },
  {
   "cell_type": "code",
   "execution_count": 5,
   "metadata": {
    "_cell_guid": "52bd5a71-60a0-4520-a4b1-b02ea0a19c49",
    "_uuid": "fb30a3dd09b88d3c0166d06ee9cb4ccd17491b64"
   },
   "outputs": [
    {
     "name": "stdout",
     "output_type": "stream",
     "text": [
      "1234567890\n",
      "1234567890thisisnotavalidphonenumber\n"
     ]
    }
   ],
   "source": [
    "really_messy_number = messy_phone_number + ' this is not a valid phone number'\n",
    "print(re.sub(r'\\D', '', really_messy_number))\n",
    "print(re.sub(r'[-.() ]', '', really_messy_number))"
   ]
  },
  {
   "cell_type": "markdown",
   "metadata": {
    "_cell_guid": "3bebeb69-d69b-4633-ab65-0f73be80a674",
    "_uuid": "4320b2f70e660d547314af1bc16aad305ab9a029"
   },
   "source": [
    "That pattern means 'delete any character found between the brackets'. Everything within the brackets is treated as if they were `|` delimited, and we wouldn't have to escape special characters.\n",
    "\n",
    "If you need to build custom classes, it's worth taking a look at [the detailed explanation in the documentation](https://docs.python.org/3/library/re.html#regular-expression-syntax) as there are some special ordering rules that only apply within the `[]`.\n",
    "\n",
    "### Quantifiers\n",
    "In many cases, we only want to match a specific number of occurrences. A full US phone number including the area code but  country code and no extension will always have 10 digits. If we're searching a text for phone numbers, we'll want to match strings of digits with no more or less than that."
   ]
  },
  {
   "cell_type": "code",
   "execution_count": 6,
   "metadata": {
    "_cell_guid": "4e15b6be-9e07-4fe9-b74b-a0e77b566ba3",
    "_uuid": "be7b11bdf0e29881588546a0c4ca8bc6fe3babac"
   },
   "outputs": [
    {
     "data": {
      "text/plain": [
       "['1234567890']"
      ]
     },
     "execution_count": 6,
     "metadata": {},
     "output_type": "execute_result"
    }
   ],
   "source": [
    "buried_phone_number = 'You are the 987th caller in line for 1234567890. Please continue to hold.'\n",
    "re.findall(r'\\d{10}', buried_phone_number)"
   ]
  },
  {
   "cell_type": "markdown",
   "metadata": {
    "_cell_guid": "9028279b-c764-4f6c-93a2-e45a0b3b765d",
    "_uuid": "85573e2f37ccf8a8605cb61237a429a7a97d9b54"
   },
   "source": [
    "### Lookarounds\n",
    "In other cases we may only want a portion of the item we're matching. Let's say that we just need the area code from a phone number. This is where lookarounds come in handy."
   ]
  },
  {
   "cell_type": "code",
   "execution_count": 7,
   "metadata": {
    "_cell_guid": "8770adcc-4177-490b-90bf-704009c71f98",
    "_uuid": "2cde94ccea93cd4ab9034d0773dcd741679f13c5"
   },
   "outputs": [
    {
     "data": {
      "text/plain": [
       "['123']"
      ]
     },
     "execution_count": 7,
     "metadata": {},
     "output_type": "execute_result"
    }
   ],
   "source": [
    "re.findall(r'\\d{3}(?=\\d{7})', buried_phone_number)"
   ]
  },
  {
   "cell_type": "markdown",
   "metadata": {
    "_cell_guid": "82b85736-f6d5-4aae-a979-c262362ab0dc",
    "_uuid": "51bd5ce3ea0a9abd3a123f32afe282ad86543784"
   },
   "source": [
    "That pattern matches three numbers if and only if they're followed by seven more numbers, and only returns the first three. The relevant special characters are in the `Regular Expression Assertions` section of [the cheat sheet](https://www.debuggex.com/cheatsheet/regex/python). \n",
    "\n",
    "### Flags\n",
    "It's often helpful to adjust a pattern's 'settings'. Flags allow us to do that. My personal favorite makes a pattern case insensitive:"
   ]
  },
  {
   "cell_type": "code",
   "execution_count": 8,
   "metadata": {
    "_cell_guid": "eab68f9c-5958-4e30-8477-5329fa79f806",
    "_uuid": "65687495b69d6da7b1291f627daab2cfa242deaf"
   },
   "outputs": [
    {
     "data": {
      "text/plain": [
       "['Tom', 'tom']"
      ]
     },
     "execution_count": 8,
     "metadata": {},
     "output_type": "execute_result"
    }
   ],
   "source": [
    "wordy_tom = \"\"\"Tom. Let's talk about him. He often forgets to capitalize tom, his name. Oh, and don't match tomorrow.\"\"\"\n",
    "re.findall(r'(?i)\\bTom\\b', wordy_tom)"
   ]
  }
 ],
 "metadata": {
  "kernelspec": {
   "display_name": "base",
   "language": "python",
   "name": "python3"
  },
  "language_info": {
   "codemirror_mode": {
    "name": "ipython",
    "version": 3
   },
   "file_extension": ".py",
   "mimetype": "text/x-python",
   "name": "python",
   "nbconvert_exporter": "python",
   "pygments_lexer": "ipython3",
   "version": "3.12.4"
  }
 },
 "nbformat": 4,
 "nbformat_minor": 1
}
