{
 "cells": [
  {
   "cell_type": "markdown",
   "id": "eade32c4",
   "metadata": {
    "papermill": {
     "duration": 0.013099,
     "end_time": "2023-11-03T12:13:15.208275",
     "exception": false,
     "start_time": "2023-11-03T12:13:15.195176",
     "status": "completed"
    },
    "tags": []
   },
   "source": [
    "<h2 align=\"center\"><font color='black'>Introduction to Regular Expressions</font></h2>\n",
    "\n",
    "Regular expressions (regex or regexp) are powerful tools used for pattern matching and searching within text. They are widely used in various programming languages and tools to perform tasks like validation, data extraction, and text manipulation. Regex patterns are composed of a combination of characters and symbols that define a specific pattern to search for within a given text.\n",
    "\n",
    "Learning regular expressions *(regex)* is a valuable skill that can greatly enhance your ability to work with text data efficiently and effectively. \n",
    "\n",
    "<center>\n",
    "<img src=\"https://www.oreilly.com/content/wp-content/uploads/sites/2/2019/06/email-regex_crop-ae942dc427c8cebd3a83c52d17389123.jpg\" width=300>\n",
    "</center>"
   ]
  },
  {
   "cell_type": "markdown",
   "id": "9c14d624",
   "metadata": {
    "papermill": {
     "duration": 0.009639,
     "end_time": "2023-11-03T12:13:15.228065",
     "exception": false,
     "start_time": "2023-11-03T12:13:15.218426",
     "status": "completed"
    },
    "tags": []
   },
   "source": [
    "### <font color='black'>Table of contents<font><a class='anchor' id='top'></a>\n",
    "1. [Importance of Regular Expressions](#importance)\n",
    "2. [`re` libray](#re)\n",
    "3. [Pattern 1: Matching Phone Numbers](#pattern1)\n",
    "4. [Pattern 2: Matching Names with Phone Numbers](#pattern2)\n",
    "5. [Pattern 3: Matching Email Addresses](#pattern3)\n",
    "6. [But why is there an `r` before the pattern?](#whyr)\n",
    "7. [Pattern 4: Matching URLs](#pattern4)\n",
    "8. [Pattern 5: Matching Dates](#pattern5)\n",
    "9. [Pattern 6: Matching Any Character](#pattern6)\n",
    "10. [Where to practice?](#practice)\n",
    "11. [Conclusion](#conclusion)"
   ]
  },
  {
   "cell_type": "markdown",
   "id": "09b47a14",
   "metadata": {
    "papermill": {
     "duration": 0.0097,
     "end_time": "2023-11-03T12:13:15.247760",
     "exception": false,
     "start_time": "2023-11-03T12:13:15.238060",
     "status": "completed"
    },
    "tags": []
   },
   "source": [
    "## Importance of Regular Expressions <a class='anchor' id='importance'></a> [↑](#top)\n",
    "\n",
    "Regular expressions are a versatile and powerful tool used for text processing, pattern matching, and data manipulation. Here are some key reasons why learning regular expressions is important:\n",
    "\n",
    "1. **Efficient Text Processing:** Regular expressions provide a concise and flexible way to search, extract, and manipulate text data. They allow you to perform complex operations with just a few lines of code.\n",
    "\n",
    "2. **Pattern Matching:** One of the primary uses of regex is to find patterns within text. This ability is crucial for tasks like data validation, searching for keywords, and extracting specific information from large datasets.\n",
    "\n",
    "3. **Data Validation:** Regular expressions are commonly used to validate user input in applications such as form validation, password validation, and email validation. This ensures that the data adheres to a certain format or structure.\n",
    "\n",
    "4. **Text Extraction and Manipulation:** With regex, you can easily extract specific pieces of information from unstructured text, such as phone numbers, email addresses, URLs, and more. You can also replace or transform text based on patterns, saving time and effort.\n",
    "\n",
    "5. **Automating Tedious Tasks:** Regular expressions can help automate tasks that involve text manipulation. For example, you can use regex to clean up messy data, reformat text, or extract information from logs.\n",
    "\n",
    "6. **Text Parsing:** Many programming languages and tools support regex for parsing structured text formats like JSON, XML, HTML, and more. This enables you to extract relevant data from these formats efficiently.\n",
    "\n",
    "7. **Programming and Scripting Languages:** Regular expressions are supported in a wide range of programming languages, including Python, Java, JavaScript, Perl, and more. Learning regex enhances your programming skills and makes you more versatile as a developer.\n",
    "\n",
    "8. **Data Analysis:** In data analysis and data science, regex can help preprocess and clean text data before further analysis. This is particularly useful for sentiment analysis, text categorization, and natural language processing.\n",
    "\n",
    "9. **Search and Replace in Editors:** Many text editors and IDEs support regex-based search and replace. This can be incredibly helpful when you're working with large codebases or documents.\n",
    "\n",
    "10. **Problem-Solving:** Regular expressions challenge your problem-solving skills and logical thinking. They encourage you to think critically about patterns and come up with efficient solutions.\n",
    "\n",
    "## `re` library <a class='anchor' id='re'></a> [↑](#top)\n",
    "\n",
    "We will using the `re` library in Python which is the only import that we need for this notebook. The `re` library in Python is a powerful tool that provides support for working with regular expressions. \"re\" stands for \"regular expression,\" and this library empowers you to search, manipulate, and process text data based on specific patterns. Whether you're validating user input, extracting information from text, or performing complex text transformations, the `re` library is your go-to tool.\n",
    "\n",
    "Key features and aspects of the `re` library include:\n",
    "\n",
    "1. **Pattern Matching:** The library enables you to define regular expressions that describe specific patterns you're looking for in text data.\n",
    "\n",
    "2. **Searching and Matching:** You can use the `re.search()` function to find the first occurrence of a pattern within a string.\n",
    "\n",
    "3. **Global Search:** The `re.findall()` function helps you find all occurrences of a pattern within a string, returning a list of matches.\n",
    "\n",
    "4. **Pattern Compilation:** The `re.compile()` function allows you to compile a regular expression pattern into a regular expression object. This can improve efficiency when you need to use the same pattern repeatedly.\n",
    "\n",
    "5. **Replacing Text:** The `re.sub()` function is used to replace occurrences of a pattern in a string with specified text.\n",
    "\n",
    "6. **Grouping and Capturing:** Parentheses `( )` in your regular expression patterns allow you to capture specific parts of a match. This is useful for extracting specific information.\n",
    "\n",
    "7. **Modifiers:** The `re.IGNORECASE` flag can be passed to functions to make pattern matching case-insensitive.\n",
    "\n",
    "8. **Metacharacters:** The library supports a range of metacharacters, such as `.` (any character except newline), `*` (zero or more occurrences), `+` (one or more occurrences), and more.\n",
    "\n",
    "9. **Anchors:** Anchors like `^` (start of string) and `$` (end of string) help you match patterns at specific positions within the text.\n",
    "\n",
    "10. **Escape Sequences:** Special characters, like `\\`, can be escaped using the backslash to match them literally.\n",
    "\n",
    "11. **Greedy and Non-Greedy Matching:** Quantifiers like `*` and `+` are greedy by default, but you can use `*?` and `+?` for non-greedy matches.\n",
    "\n",
    "The `re` library is an essential tool for working with text data, enabling you to manipulate and process text effectively using the power of regular expressions. It's widely used across various domains, including web development, data processing, text analysis, and more. Mastering the `re` library can greatly enhance your ability to work with textual information and solve a wide range of text-related challenges.\n",
    "\n",
    "Let's go over some regex patterns and see what they mean and how they can be used in our workflows to get the results we are after. Let's begin."
   ]
  },
  {
   "cell_type": "markdown",
   "id": "333fd890",
   "metadata": {
    "papermill": {
     "duration": 0.009652,
     "end_time": "2023-11-03T12:13:15.267254",
     "exception": false,
     "start_time": "2023-11-03T12:13:15.257602",
     "status": "completed"
    },
    "tags": []
   },
   "source": [
    "## Pattern 1: Matching Phone Numbers<a class='anchor' id='pattern1'></a> [↑](#top)\n",
    "\n",
    "Pattern: \n",
    "\n",
    "```python\n",
    "'\\d{3}-\\d{3}-\\d{4}'\n",
    "```\n",
    "\n",
    "Explanation:\n",
    "- `\\d`: Matches any digit (equivalent to [0-9]).\n",
    "- `{3}`: Specifies that the preceding element (digit) should occur exactly 3 times.\n",
    "- `-`: Matches the hyphen character literally.\n",
    "- Combining these, `\\d{3}-\\d{3}-\\d{4}` matches phone numbers in the format XXX-XXX-XXXX."
   ]
  },
  {
   "cell_type": "code",
   "execution_count": 17,
   "id": "a5f52a9a",
   "metadata": {
    "execution": {
     "iopub.execute_input": "2023-11-03T12:13:15.289653Z",
     "iopub.status.busy": "2023-11-03T12:13:15.288505Z",
     "iopub.status.idle": "2023-11-03T12:13:15.302061Z",
     "shell.execute_reply": "2023-11-03T12:13:15.300616Z"
    },
    "papermill": {
     "duration": 0.027536,
     "end_time": "2023-11-03T12:13:15.304742",
     "exception": false,
     "start_time": "2023-11-03T12:13:15.277206",
     "status": "completed"
    },
    "tags": []
   },
   "outputs": [
    {
     "name": "stdout",
     "output_type": "stream",
     "text": [
      "Pattern 1 Matches: ['555-123-4567', '333-987-6543']\n"
     ]
    }
   ],
   "source": [
    "import re\n",
    "\n",
    "text = \"\"\"\n",
    "Alice: 555-123-4567\n",
    "Bob: 333-987-6543\n",
    "Charlie: 777-555-88\n",
    "\"\"\"\n",
    "pattern = r'\\d{3}-\\d{3}-\\d{4}'\n",
    "matches = re.findall(pattern, text)\n",
    "print(\"Pattern 1 Matches:\", matches)"
   ]
  },
  {
   "cell_type": "markdown",
   "id": "8f4fdbe4",
   "metadata": {
    "papermill": {
     "duration": 0.009596,
     "end_time": "2023-11-03T12:13:15.324553",
     "exception": false,
     "start_time": "2023-11-03T12:13:15.314957",
     "status": "completed"
    },
    "tags": []
   },
   "source": [
    "<div class=\"alert alert-block alert-info\">\n",
    "<b></b> Notice Charlie's number wasn't matched because the phone number ended with only two digits. While this situation is less likely with actual phone numbers, it demonstrates a limitation of the pattern when dealing with cases where the length of the numbers is uncertain. In scenarios where you're unsure about the exact length of the numbers, this pattern might not provide the desired results, prompting the need to explore alternative regex patterns to address varying number lengths.\n",
    "</div>"
   ]
  },
  {
   "cell_type": "markdown",
   "id": "309a4674",
   "metadata": {
    "papermill": {
     "duration": 0.009558,
     "end_time": "2023-11-03T12:13:15.344117",
     "exception": false,
     "start_time": "2023-11-03T12:13:15.334559",
     "status": "completed"
    },
    "tags": []
   },
   "source": [
    "## Pattern 2: Matching Names with Phone Numbers\n",
    "Pattern: \n",
    "\n",
    "```python \n",
    "\"([A-Za-z]+):\\s(\\d{3}-\\d{3}-\\d{4})\"\n",
    "```\n",
    "\n",
    "### Explanation:\n",
    "\n",
    "- `([A-Za-z]+)`: Capturing group for matching names composed of alphabetic characters.\n",
    "- `:\\s:` Matches a colon followed by a space character.\n",
    "- `(\\d{3}-\\d{3}-\\d{4})`: Capturing group for matching phone numbers."
   ]
  },
  {
   "cell_type": "code",
   "execution_count": 3,
   "id": "abc5f9a5",
   "metadata": {
    "execution": {
     "iopub.execute_input": "2023-11-03T12:13:15.365608Z",
     "iopub.status.busy": "2023-11-03T12:13:15.365171Z",
     "iopub.status.idle": "2023-11-03T12:13:15.372179Z",
     "shell.execute_reply": "2023-11-03T12:13:15.371151Z"
    },
    "papermill": {
     "duration": 0.020463,
     "end_time": "2023-11-03T12:13:15.374547",
     "exception": false,
     "start_time": "2023-11-03T12:13:15.354084",
     "status": "completed"
    },
    "tags": []
   },
   "outputs": [
    {
     "name": "stdout",
     "output_type": "stream",
     "text": [
      "[('Alice', '555-123-4567'), ('Bob', '333-987-6543')]\n",
      "Pattern 2 Matches: \n",
      "\n",
      "Name: Alice \tPhone: 555-123-4567\n",
      "Name: Bob \tPhone: 333-987-6543\n"
     ]
    }
   ],
   "source": [
    "text = \"\"\"\n",
    "Alice: 555-123-4567\n",
    "Bob: 333-987-6543\n",
    "Charlie: 777-555-88\n",
    "\"\"\"\n",
    "pattern = r'([A-Za-z]+):\\s(\\d{3}-\\d{3}-\\d{4})'\n",
    "matches = re.findall(pattern, text)\n",
    "print(matches)\n",
    "print('Pattern 2 Matches: \\n')\n",
    "for match in matches:\n",
    "    print(\"Name:\", match[0], \"\\tPhone:\", match[1])"
   ]
  },
  {
   "cell_type": "markdown",
   "id": "a9d5eee1",
   "metadata": {
    "papermill": {
     "duration": 0.00971,
     "end_time": "2023-11-03T12:13:15.394270",
     "exception": false,
     "start_time": "2023-11-03T12:13:15.384560",
     "status": "completed"
    },
    "tags": []
   },
   "source": [
    "<div class=\"alert alert-block alert-info\">\n",
    "<b></b> Notice Charlie's number wasn't matched because the phone number ended with only two digits. While this situation is less likely with actual phone numbers, it demonstrates a limitation of the pattern when dealing with cases where the length of the numbers is uncertain. In scenarios where you're unsure about the exact length of the numbers, this pattern might not provide the desired results, prompting the need to explore alternative regex patterns to address varying number lengths.\n",
    "</div>"
   ]
  },
  {
   "cell_type": "markdown",
   "id": "638cba2f",
   "metadata": {
    "papermill": {
     "duration": 0.010022,
     "end_time": "2023-11-03T12:13:15.414339",
     "exception": false,
     "start_time": "2023-11-03T12:13:15.404317",
     "status": "completed"
    },
    "tags": []
   },
   "source": [
    "## Pattern 3: Matching Email Addresses<a class='anchor' id='pattern3'></a> [↑](#top)\n",
    "Pattern: \n",
    "\n",
    "```python \n",
    "\"\\b[A-Za-z0-9._%+-]+@[A-Za-z0-9.-]+\\.[A-Z|a-z]{2,7}\\b\"\n",
    "```\n",
    "\n",
    "### Explanation:\n",
    "\n",
    "- `\\b`: Matches a word boundary to ensure the entire email address is matched.\n",
    "- `[A-Za-z0-9._%+-]+`: Matches one or more characters from the allowed set in an email username.\n",
    "- `@`: Matches the \"@\" symbol.\n",
    "- `[A-Za-z0-9.-]+`: Matches one or more characters in the domain name.\n",
    "- `\\.:` Matches a literal period (dot).\n",
    "- `[A-Z|a-z]{2,7}`: Matches the top-level domain (TLD) with 2 to 7 alphabetic characters."
   ]
  },
  {
   "cell_type": "code",
   "execution_count": 4,
   "id": "31fed197",
   "metadata": {
    "execution": {
     "iopub.execute_input": "2023-11-03T12:13:15.436515Z",
     "iopub.status.busy": "2023-11-03T12:13:15.435831Z",
     "iopub.status.idle": "2023-11-03T12:13:15.442734Z",
     "shell.execute_reply": "2023-11-03T12:13:15.441665Z"
    },
    "papermill": {
     "duration": 0.020728,
     "end_time": "2023-11-03T12:13:15.445045",
     "exception": false,
     "start_time": "2023-11-03T12:13:15.424317",
     "status": "completed"
    },
    "tags": []
   },
   "outputs": [
    {
     "name": "stdout",
     "output_type": "stream",
     "text": [
      "Pattern 3 Matches: ['john.doe@example.com', 'jane_smith@gmail.com', 'info@company.net']\n"
     ]
    }
   ],
   "source": [
    "pattern = r'\\b[A-Za-z0-9._%+-]+@[A-Za-z0-9.-]+\\.[A-Z|a-z]{2,7}\\b'\n",
    "emails = \"\"\"\n",
    "Emails: john.doe@example.com, jane_smith@gmail.com, info@company.net\n",
    "\"\"\"\n",
    "matches = re.findall(pattern, emails, re.IGNORECASE)\n",
    "print(\"Pattern 3 Matches:\", matches)"
   ]
  },
  {
   "cell_type": "markdown",
   "id": "8f30a858",
   "metadata": {
    "papermill": {
     "duration": 0.010388,
     "end_time": "2023-11-03T12:13:15.466124",
     "exception": false,
     "start_time": "2023-11-03T12:13:15.455736",
     "status": "completed"
    },
    "tags": []
   },
   "source": [
    "If you just want the user name that is the text before the `@` symbol then we can use the pattern below."
   ]
  },
  {
   "cell_type": "code",
   "execution_count": 5,
   "id": "249691b7",
   "metadata": {
    "execution": {
     "iopub.execute_input": "2023-11-03T12:13:15.489463Z",
     "iopub.status.busy": "2023-11-03T12:13:15.488732Z",
     "iopub.status.idle": "2023-11-03T12:13:15.495205Z",
     "shell.execute_reply": "2023-11-03T12:13:15.494021Z"
    },
    "papermill": {
     "duration": 0.020907,
     "end_time": "2023-11-03T12:13:15.497535",
     "exception": false,
     "start_time": "2023-11-03T12:13:15.476628",
     "status": "completed"
    },
    "tags": []
   },
   "outputs": [
    {
     "name": "stdout",
     "output_type": "stream",
     "text": [
      "Pattern 3 Matches: ['john.doe', 'jane_smith', 'info']\n"
     ]
    }
   ],
   "source": [
    "pattern = r'\\b([A-Za-z0-9._]+)@\\b'\n",
    "emails = \"\"\"\n",
    "john.doe@example.com, jane_smith@gmail.com, info@company.net\n",
    "\"\"\"\n",
    "matches = re.findall(pattern, emails, re.IGNORECASE)\n",
    "print(\"Pattern 3 Matches:\", matches)"
   ]
  },
  {
   "cell_type": "markdown",
   "id": "15cb6bf2",
   "metadata": {
    "papermill": {
     "duration": 0.010047,
     "end_time": "2023-11-03T12:13:15.518195",
     "exception": false,
     "start_time": "2023-11-03T12:13:15.508148",
     "status": "completed"
    },
    "tags": []
   },
   "source": [
    "Let's break down the regular expression pattern `r'\\b@([A-Za-z0-9._]+)\\b'` step by step:\n",
    "\n",
    "1. `\\b`: Word Boundary - `\\b` is a word boundary anchor. It matches the position between a word character (such as letters or digits) and a non-word character (such as spaces, punctuation, or the start/end of a line). It's used to ensure that the pattern matches whole words.\n",
    "\n",
    "2. `@`: Literal '@' Symbol - The `@` character matches the \"@\" symbol exactly.\n",
    "\n",
    "3. `([A-Za-z0-9._]+)`: Capturing Group for Email Username - `(` and `)` define a capturing group. This capturing group is used to capture the email username part and `[A-Za-z0-9._]+` matches one or more occurrences of characters that are valid in an email username. This includes alphabetic characters (both uppercase and lowercase), digits, dots, and underscores.\n",
    "\n",
    "4. `\\b`: Word Boundary - Another word boundary anchor `\\b` is used to ensure the pattern matches whole words.\n",
    "\n",
    "If you want to fetch the domain names from an email you can use the below pattern that will escape the `@` symbol and include anything after that."
   ]
  },
  {
   "cell_type": "code",
   "execution_count": 6,
   "id": "ffeadef8",
   "metadata": {
    "execution": {
     "iopub.execute_input": "2023-11-03T12:13:15.540435Z",
     "iopub.status.busy": "2023-11-03T12:13:15.540033Z",
     "iopub.status.idle": "2023-11-03T12:13:15.547230Z",
     "shell.execute_reply": "2023-11-03T12:13:15.545686Z"
    },
    "papermill": {
     "duration": 0.020744,
     "end_time": "2023-11-03T12:13:15.549402",
     "exception": false,
     "start_time": "2023-11-03T12:13:15.528658",
     "status": "completed"
    },
    "tags": []
   },
   "outputs": [
    {
     "name": "stdout",
     "output_type": "stream",
     "text": [
      "Pattern 3 Matches: ['example.com', 'gmail.com', 'company.net']\n"
     ]
    }
   ],
   "source": [
    "pattern = r'\\b@([A-Za-z0-9._]+)\\b'\n",
    "emails = \"\"\"\n",
    "john.doe@example.com, jane_smith@gmail.com, info@company.net\n",
    "\"\"\"\n",
    "matches = re.findall(pattern, emails, re.IGNORECASE)\n",
    "print(\"Pattern 3 Matches:\", matches)"
   ]
  },
  {
   "cell_type": "code",
   "execution_count": 7,
   "id": "5017e1e8",
   "metadata": {
    "execution": {
     "iopub.execute_input": "2023-11-03T12:13:15.571504Z",
     "iopub.status.busy": "2023-11-03T12:13:15.571112Z",
     "iopub.status.idle": "2023-11-03T12:13:15.577117Z",
     "shell.execute_reply": "2023-11-03T12:13:15.576071Z"
    },
    "papermill": {
     "duration": 0.019787,
     "end_time": "2023-11-03T12:13:15.579330",
     "exception": false,
     "start_time": "2023-11-03T12:13:15.559543",
     "status": "completed"
    },
    "tags": []
   },
   "outputs": [
    {
     "name": "stdout",
     "output_type": "stream",
     "text": [
      "Pattern 3 Matches: ['example.com', 'gmail.com', 'Company.net', 'company.net']\n"
     ]
    }
   ],
   "source": [
    "pattern = r'\\b@([A-Za-z0-9._]+)\\b'\n",
    "emails = \"\"\"\n",
    "john.doe@example.com, jane_smith@gmail.com, info@Company.net, info@company.net\n",
    "\"\"\"\n",
    "matches = re.findall(pattern, emails,  re.IGNORECASE)\n",
    "print(\"Pattern 3 Matches:\", matches)"
   ]
  },
  {
   "cell_type": "markdown",
   "id": "fd4626ae",
   "metadata": {},
   "source": [
    "https://www.w3schools.com/python/python_regex.asp"
   ]
  },
  {
   "cell_type": "markdown",
   "id": "3b71d5aa",
   "metadata": {
    "papermill": {
     "duration": 0.009965,
     "end_time": "2023-11-03T12:13:15.599570",
     "exception": false,
     "start_time": "2023-11-03T12:13:15.589605",
     "status": "completed"
    },
    "tags": []
   },
   "source": [
    "### But why is there an `r` before the pattern?<a class='anchor' id='whyr'></a> [↑](#top)\n",
    "\n",
    "The `r` before the string in `r\"\\b[^@]+\\b\"` is called a \"raw string literal\" in Python. Let's explain why it's used:\n",
    "\n",
    "In regular expressions, backslashes `\\` are commonly used to escape special characters. However, in Python strings, backslashes also have their own escape sequences. For instance, `\\n` represents a newline character, and `\\t` represents a tab character. This can lead to conflicts between the regular expression's use of backslashes and Python's string processing.\n",
    "\n",
    "To address this, you can use a raw string literal by prefixing the string with `r`. In a raw string literal, backslashes are treated as literal characters and not as escape characters. This is particularly useful when working with regular expressions because it ensures that backslashes are interpreted only by the regex engine and not by Python's string handling.\n",
    "\n",
    "So, the `r\"\\b[^@]+\\b\"` pattern uses the raw string literal `r` to make sure that the backslashes are interpreted as part of the regular expression and not as escape characters for Python's string processing.\n",
    "\n",
    "## Pattern 4: Matching URLs<a class='anchor' id='pattern4'></a> [↑](#top)\n",
    "\n",
    "Pattern: \n",
    "```python\n",
    "'(https?://\\S+)'\n",
    "```\n",
    "### Explanation:\n",
    "\n",
    "This pattern captures URLs starting with \"http://\" or \"https://\", followed by one or more non-whitespace characters. Let's break down the regular expression `(https?://\\S+)` step by step:\n",
    "\n",
    "1. `(https?://\\S+)` -  is the regular expression pattern enclosed in parentheses. The parentheses are used to create a capturing group that allows us to extract the matched content.\n",
    "\n",
    "2. `http` - `http` matches the literal characters \"http\" exactly.\n",
    "\n",
    "3. `s?` - `s?` is a quantifier that matches the character \"s\" zero or one time. This allows the regular expression to match both \"http\" and \"https\". The question mark `?` makes the preceding character (in this case, \"s\") optional.\n",
    "\n",
    "4. `://` - `://` matches the literal characters \"://\". This part represents the typical part of URLs that indicates the protocol (http or https).\n",
    "\n",
    "5. `\\S+`- `\\S+` matches one or more non-whitespace characters. It's used to match the rest of the URL after the protocol.\n",
    "\n",
    "Below is a cheatsheet that might help you navigate the world of Regular Expressions\n",
    "\n",
    "<center>\n",
    "<img src=\"https://pbs.twimg.com/media/DBNN9XQXcAA8L-Q.jpg\" width=600>\n",
    "</center>"
   ]
  },
  {
   "cell_type": "code",
   "execution_count": 8,
   "id": "258797c5",
   "metadata": {
    "execution": {
     "iopub.execute_input": "2023-11-03T12:13:15.623047Z",
     "iopub.status.busy": "2023-11-03T12:13:15.622257Z",
     "iopub.status.idle": "2023-11-03T12:13:15.628676Z",
     "shell.execute_reply": "2023-11-03T12:13:15.627578Z"
    },
    "papermill": {
     "duration": 0.020872,
     "end_time": "2023-11-03T12:13:15.631004",
     "exception": false,
     "start_time": "2023-11-03T12:13:15.610132",
     "status": "completed"
    },
    "tags": []
   },
   "outputs": [
    {
     "name": "stdout",
     "output_type": "stream",
     "text": [
      "\n",
      "Pattern 4 Matches: ['http://www.kaggle.com', 'https://web.mit.edu/']\n"
     ]
    }
   ],
   "source": [
    "text = \"\"\"\n",
    "    Check this out: http://www.kaggle.com and also https://web.mit.edu/\n",
    "\"\"\"\n",
    "\n",
    "pattern = r'(https?://\\S+)'\n",
    "matches = re.findall(pattern, text)\n",
    "print(\"\\nPattern 4 Matches:\", matches)"
   ]
  },
  {
   "cell_type": "markdown",
   "id": "996a17e9",
   "metadata": {
    "papermill": {
     "duration": 0.010244,
     "end_time": "2023-11-03T12:13:15.651573",
     "exception": false,
     "start_time": "2023-11-03T12:13:15.641329",
     "status": "completed"
    },
    "tags": []
   },
   "source": [
    "## Pattern 5: Matching Dates<a class='anchor' id='pattern5'></a> [↑](#top)\n",
    "Pattern: \n",
    "\n",
    "```python\n",
    "'(\\d{2}-\\d{2}-\\d{4})'\n",
    "```\n",
    "### Explanation:\n",
    "\n",
    "This pattern captures dates in the format DD-MM-YYYY. Let's break down the regular expression `\\d{2}-\\d{2}-\\d{4}` step by step:\n",
    "\n",
    "1. `\\d{2}`- `\\d` matches any digit (0-9) and  `{2}` is a quantifier that specifies that the preceding element (in this case, `\\d`) should occur exactly 2 times while This part `\\d{2}` matches two consecutive digits.\n",
    "\n",
    "2. `-` - `-` matches the hyphen character \"-\" literally.\n",
    "\n",
    "3. `\\d{2}` - Similarly, this part `\\d{2}` matches two consecutive digits again.\n",
    "\n",
    "4. `-` - Another hyphen character \"-\" matches here.\n",
    "\n",
    "5. `\\d{4}` - This part `\\d{4}` matches four consecutive digits."
   ]
  },
  {
   "cell_type": "code",
   "execution_count": 9,
   "id": "2cb557ca",
   "metadata": {
    "execution": {
     "iopub.execute_input": "2023-11-03T12:13:15.674566Z",
     "iopub.status.busy": "2023-11-03T12:13:15.674191Z",
     "iopub.status.idle": "2023-11-03T12:13:15.680627Z",
     "shell.execute_reply": "2023-11-03T12:13:15.679169Z"
    },
    "papermill": {
     "duration": 0.020724,
     "end_time": "2023-11-03T12:13:15.682988",
     "exception": false,
     "start_time": "2023-11-03T12:13:15.662264",
     "status": "completed"
    },
    "tags": []
   },
   "outputs": [
    {
     "name": "stdout",
     "output_type": "stream",
     "text": [
      "\n",
      "Pattern 5 Matches: ['05-12-2022']\n"
     ]
    }
   ],
   "source": [
    "pattern = r'(\\d{2}-\\d{2}-\\d{4})'\n",
    "dates = \"\"\"\n",
    "Important dates: 05-12-2022 and 2010-08-23\n",
    "\"\"\"\n",
    "matches = re.findall(pattern, dates)\n",
    "print(\"\\nPattern 5 Matches:\", matches)"
   ]
  },
  {
   "cell_type": "markdown",
   "id": "7b484e6c",
   "metadata": {
    "papermill": {
     "duration": 0.012243,
     "end_time": "2023-11-03T12:13:15.705695",
     "exception": false,
     "start_time": "2023-11-03T12:13:15.693452",
     "status": "completed"
    },
    "tags": []
   },
   "source": [
    "\n",
    "<p class=\"alert alert-block alert-info\">\n",
    "Notice that the second date is not matching since the pattern is not the same as we have mentioned. We can also write a more robust pattern for matching dates that handles different date formats, including variations with or without leading zeroes\n",
    "</p>\n",
    "\n",
    "### Explanation:\n",
    "\n",
    "- `\\b`: Word boundary to ensure complete date matches.\n",
    "- `\\d{1,2}`: Matches one or two digits for the day and month.\n",
    "- `[-/]`: Matches either a hyphen or a forward slash as the delimiter.\n",
    "- `\\d{1,2}`: Matches one or two digits for the day and month.\n",
    "- `[-/]`: Another delimiter.\n",
    "- `\\d{4}`: Matches exactly four digits for the year.\n",
    "- `\\b`: Word boundary to ensure the end of the date.\n",
    "\n",
    "This pattern accommodates both single and double-digit days and months, as well as four-digit years, making it more robust for capturing various date formats. Below is the code for the above pattern we just went over:"
   ]
  },
  {
   "cell_type": "code",
   "execution_count": 10,
   "id": "2ab3eacd",
   "metadata": {
    "execution": {
     "iopub.execute_input": "2023-11-03T12:13:15.728865Z",
     "iopub.status.busy": "2023-11-03T12:13:15.728471Z",
     "iopub.status.idle": "2023-11-03T12:13:15.734361Z",
     "shell.execute_reply": "2023-11-03T12:13:15.733207Z"
    },
    "papermill": {
     "duration": 0.020887,
     "end_time": "2023-11-03T12:13:15.737134",
     "exception": false,
     "start_time": "2023-11-03T12:13:15.716247",
     "status": "completed"
    },
    "tags": []
   },
   "outputs": [
    {
     "name": "stdout",
     "output_type": "stream",
     "text": [
      "Pattern 5 Matches: ['05-12-2022']\n"
     ]
    }
   ],
   "source": [
    "pattern = r'\\b\\d{1,2}[-/]\\d{1,2}[-/]\\d{4}\\b'\n",
    "dates = \"\"\"\n",
    "Important dates: 05-12-2022 and 2010-08-23 and 7/6/1998\n",
    "\"\"\"\n",
    "matches5 = re.findall(pattern, dates)\n",
    "print(\"Pattern 5 Matches:\", matches)"
   ]
  },
  {
   "cell_type": "markdown",
   "id": "2b6f24c7",
   "metadata": {
    "papermill": {
     "duration": 0.010667,
     "end_time": "2023-11-03T12:13:15.758466",
     "exception": false,
     "start_time": "2023-11-03T12:13:15.747799",
     "status": "completed"
    },
    "tags": []
   },
   "source": [
    "\n",
    "\n",
    "<div class=\"alert alert-block alert-info\">\n",
    "Notice that the second date is not matching because the date pattern is different. The year is in front which doesn't allow the match condition to be true.\n",
    "</div>"
   ]
  },
  {
   "cell_type": "markdown",
   "id": "ab8fd972",
   "metadata": {
    "papermill": {
     "duration": 0.010583,
     "end_time": "2023-11-03T12:13:15.779918",
     "exception": false,
     "start_time": "2023-11-03T12:13:15.769335",
     "status": "completed"
    },
    "tags": []
   },
   "source": [
    "## Pattern 6: Matching Any Character<a class='anchor' id='pattern6'></a> [↑](#top)\n",
    "Pattern: \n",
    "```python\n",
    "'.*'\n",
    "```\n",
    "### Explanation:\n",
    "\n",
    "1. `.`: The dot (period) character in regex matches any character except for a newline character (`\\n`). It represents a wildcard that can stand for any single character.\n",
    "\n",
    "2. `*`: The asterisk is a quantifier that indicates \"zero or more occurrences\" of the preceding element. In this case, the preceding element is the dot (`.`), which means \"zero or more occurrences of any character.\"\n",
    "\n",
    "*For example*, if you have the text \"Hello, World!\", the pattern `.*` would match the entire string \"Hello, World!\". If used within a larger regex pattern, it would capture everything between other elements or patterns."
   ]
  },
  {
   "cell_type": "code",
   "execution_count": 11,
   "id": "09aa1c0b",
   "metadata": {
    "execution": {
     "iopub.execute_input": "2023-11-03T12:13:15.803518Z",
     "iopub.status.busy": "2023-11-03T12:13:15.803131Z",
     "iopub.status.idle": "2023-11-03T12:13:15.809364Z",
     "shell.execute_reply": "2023-11-03T12:13:15.808252Z"
    },
    "papermill": {
     "duration": 0.020886,
     "end_time": "2023-11-03T12:13:15.811556",
     "exception": false,
     "start_time": "2023-11-03T12:13:15.790670",
     "status": "completed"
    },
    "tags": []
   },
   "outputs": [
    {
     "name": "stdout",
     "output_type": "stream",
     "text": [
      "Pattern 6 Matches: ['brown fox jumps over the lazy dog']\n"
     ]
    }
   ],
   "source": [
    "text = \"The quick brown fox jumps over the lazy dog\"\n",
    "pattern = \"brown.*\"\n",
    "matches = re.findall(pattern, text)\n",
    "print(\"Pattern 6 Matches:\", matches)"
   ]
  },
  {
   "cell_type": "markdown",
   "id": "00f41aea",
   "metadata": {
    "papermill": {
     "duration": 0.010661,
     "end_time": "2023-11-03T12:13:15.833082",
     "exception": false,
     "start_time": "2023-11-03T12:13:15.822421",
     "status": "completed"
    },
    "tags": []
   },
   "source": [
    "Adding a word after our pattern `.*` will return all the characters upto that word starting from the beginning."
   ]
  },
  {
   "cell_type": "code",
   "execution_count": 12,
   "id": "2ad31105",
   "metadata": {
    "execution": {
     "iopub.execute_input": "2023-11-03T12:13:15.856450Z",
     "iopub.status.busy": "2023-11-03T12:13:15.856038Z",
     "iopub.status.idle": "2023-11-03T12:13:15.861934Z",
     "shell.execute_reply": "2023-11-03T12:13:15.860874Z"
    },
    "papermill": {
     "duration": 0.020355,
     "end_time": "2023-11-03T12:13:15.864301",
     "exception": false,
     "start_time": "2023-11-03T12:13:15.843946",
     "status": "completed"
    },
    "tags": []
   },
   "outputs": [
    {
     "name": "stdout",
     "output_type": "stream",
     "text": [
      "Pattern 6 Matches: ['The quick brown']\n"
     ]
    }
   ],
   "source": [
    "text = \"The quick brown fox jumps over the lazy dog\"\n",
    "pattern = \".*brown\"\n",
    "matches = re.findall(pattern, text)\n",
    "print(\"Pattern 6 Matches:\", matches)"
   ]
  },
  {
   "cell_type": "markdown",
   "id": "053c83b6",
   "metadata": {
    "papermill": {
     "duration": 0.010639,
     "end_time": "2023-11-03T12:13:15.885684",
     "exception": false,
     "start_time": "2023-11-03T12:13:15.875045",
     "status": "completed"
    },
    "tags": []
   },
   "source": [
    "And if you just want to match just a word you can just mention that word and that word will be returned to you. Let's do a list of sentences to see how we can loop through them to see if the word appears in those sentences or not"
   ]
  },
  {
   "cell_type": "code",
   "execution_count": 13,
   "id": "7c5aeb20",
   "metadata": {
    "execution": {
     "iopub.execute_input": "2023-11-03T12:13:15.909116Z",
     "iopub.status.busy": "2023-11-03T12:13:15.908539Z",
     "iopub.status.idle": "2023-11-03T12:13:15.915830Z",
     "shell.execute_reply": "2023-11-03T12:13:15.914712Z"
    },
    "papermill": {
     "duration": 0.021673,
     "end_time": "2023-11-03T12:13:15.918152",
     "exception": false,
     "start_time": "2023-11-03T12:13:15.896479",
     "status": "completed"
    },
    "tags": []
   },
   "outputs": [
    {
     "name": "stdout",
     "output_type": "stream",
     "text": [
      "Pattern 6 Matches the input no. 1: dog\n",
      "Pattern 6 Match was not found in the input no. 2.\n"
     ]
    }
   ],
   "source": [
    "text = [\"The quick brown fox jumps over the lazy dog\", \"The lazy fox slept on the brown branch of a tree\"]\n",
    "pattern = \"dog\"\n",
    "for idx, match in enumerate(text):\n",
    "    matches = re.findall(pattern, match) \n",
    "    if matches:\n",
    "        print(f\"Pattern 6 Matches the input no. {idx+1}:\", matches[0])\n",
    "    else:\n",
    "        print(f\"Pattern 6 Match was not found in the input no. {idx+1}.\")"
   ]
  },
  {
   "cell_type": "markdown",
   "id": "3a2b95ad",
   "metadata": {
    "papermill": {
     "duration": 0.010846,
     "end_time": "2023-11-03T12:13:15.940197",
     "exception": false,
     "start_time": "2023-11-03T12:13:15.929351",
     "status": "completed"
    },
    "tags": []
   },
   "source": [
    "Suppose you have an invoice number and you want to extract a specific part from the same. You could do that too."
   ]
  },
  {
   "cell_type": "code",
   "execution_count": 14,
   "id": "1f85045d",
   "metadata": {
    "execution": {
     "iopub.execute_input": "2023-11-03T12:13:15.963722Z",
     "iopub.status.busy": "2023-11-03T12:13:15.963315Z",
     "iopub.status.idle": "2023-11-03T12:13:15.969420Z",
     "shell.execute_reply": "2023-11-03T12:13:15.968395Z"
    },
    "papermill": {
     "duration": 0.020646,
     "end_time": "2023-11-03T12:13:15.971739",
     "exception": false,
     "start_time": "2023-11-03T12:13:15.951093",
     "status": "completed"
    },
    "tags": []
   },
   "outputs": [
    {
     "name": "stdout",
     "output_type": "stream",
     "text": [
      "The Pattern returned 006\n"
     ]
    }
   ],
   "source": [
    "text = \"TCS/2023-24/006\"\n",
    "pattern = r\"\\d{3}$\"\n",
    "match = re.findall(pattern, text)[0]\n",
    "print(f'The Pattern returned {match}')"
   ]
  },
  {
   "cell_type": "markdown",
   "id": "e03c87c0",
   "metadata": {
    "papermill": {
     "duration": 0.01059,
     "end_time": "2023-11-03T12:13:15.993149",
     "exception": false,
     "start_time": "2023-11-03T12:13:15.982559",
     "status": "completed"
    },
    "tags": []
   },
   "source": [
    "Let's say you want to get the year part from an invoice number. You could do it like this"
   ]
  },
  {
   "cell_type": "code",
   "execution_count": 15,
   "id": "a61fa461",
   "metadata": {
    "execution": {
     "iopub.execute_input": "2023-11-03T12:13:16.017071Z",
     "iopub.status.busy": "2023-11-03T12:13:16.016654Z",
     "iopub.status.idle": "2023-11-03T12:13:16.022320Z",
     "shell.execute_reply": "2023-11-03T12:13:16.021101Z"
    },
    "papermill": {
     "duration": 0.020914,
     "end_time": "2023-11-03T12:13:16.025044",
     "exception": false,
     "start_time": "2023-11-03T12:13:16.004130",
     "status": "completed"
    },
    "tags": []
   },
   "outputs": [
    {
     "name": "stdout",
     "output_type": "stream",
     "text": [
      "Year : 2023\n"
     ]
    }
   ],
   "source": [
    "text = \"TCS/2023-24/006\"\n",
    "pattern = r\"\\d{4}\"\n",
    "match = re.findall(pattern, text)[0]\n",
    "print(f'Year : {match}')"
   ]
  },
  {
   "cell_type": "markdown",
   "id": "576195cd",
   "metadata": {
    "papermill": {
     "duration": 0.010875,
     "end_time": "2023-11-03T12:13:16.047333",
     "exception": false,
     "start_time": "2023-11-03T12:13:16.036458",
     "status": "completed"
    },
    "tags": []
   },
   "source": [
    "## Where to practice?<a class='anchor' id='practice'></a> [↑](#top)\n",
    "\n",
    "Enhance your mastery of regular expressions by utilizing platforms like https://regexr.com/ or https://regex101.com/ for hands-on practice. These websites offer an excellent environment to solidify your grasp of regular expressions. Once you've gained a solid foundation, you can further test your knowledge using Python or leverage the REGEXTRACT function in Google Sheets. These practical applications allow you to validate your learning and identify areas for improvement, if necessary.\n",
    "\n",
    "or you can practice using the code below.\n",
    "\n",
    "```python\n",
    "\n",
    "import re\n",
    "import ipywidgets as widgets\n",
    "from IPython.display import display\n",
    "\n",
    "text_input = widgets.Text(\n",
    "    placeholder='Enter text here',\n",
    "    description='Text:',\n",
    "    disabled=False\n",
    ")\n",
    "pattern_input = widgets.Text(\n",
    "    placeholder='Enter pattern here',\n",
    "    description='Pattern:',\n",
    "    disabled=False\n",
    ")\n",
    "display(text_input, pattern_input)\n",
    "\n",
    "# Create a button widget\n",
    "button = widgets.Button(description=\"Find Matches\")\n",
    "display(button)\n",
    "\n",
    "# Output widget to display matches\n",
    "output = widgets.Output()\n",
    "display(output)\n",
    "\n",
    "# Function to handle button click event\n",
    "def find_matches(button_click):\n",
    "    text = text_input.value\n",
    "    pattern = pattern_input.value\n",
    "    matches = re.findall(pattern, text)\n",
    "    \n",
    "    with output:\n",
    "        print(\"Pattern Matches:\", matches)\n",
    "\n",
    "# Attach the function to the button's click event\n",
    "button.on_click(find_matches)\n",
    "```"
   ]
  },
  {
   "cell_type": "markdown",
   "id": "e1b2537a",
   "metadata": {
    "papermill": {
     "duration": 0.010881,
     "end_time": "2023-11-03T12:13:16.069247",
     "exception": false,
     "start_time": "2023-11-03T12:13:16.058366",
     "status": "completed"
    },
    "tags": []
   },
   "source": [
    "## Conclusion<a class='anchor' id='conclusion'></a> [↑](#top)\n",
    "\n",
    "- Regular expressions serve as versatile tools that empower you to efficiently search for and manipulate text based on specific patterns. By grasping the fundamental concepts and patterns, you gain the ability to carry out diverse tasks involving text processing and data extraction. ## Conclusion\n",
    "\n",
    "- In our data-driven world, the capability to effectively process, search, and manipulate text data holds immense significance. Acquiring proficiency in regular expressions empowers you to unlock the full potential of text data and proficiently address a broad spectrum of challenges.\n",
    "\n",
    "- Whether you're a programmer, data analyst, content creator, or anyone engaging with text, mastering regular expressions significantly amplifies your productivity and ushers in fresh opportunities for innovative solutions.\n",
    "\n",
    "- While regular expressions can appear complex, particularly when unfamiliar, comprehending them offers you not only the capacity to create expressions tailored to your needs but also the ability to decipher expressions crafted by others.\n",
    "\n",
    "<div class=\"alert alert-block alert-warning\">\n",
    "I trust this notebook has provided a solid foundation in grasping the essentials of regex, leaving you confident in crafting your own expressions. Your support through upvoting and following for more content like this is greatly appreciated.\n",
    "</div>"
   ]
  }
 ],
 "metadata": {
  "kernelspec": {
   "display_name": "base",
   "language": "python",
   "name": "python3"
  },
  "language_info": {
   "codemirror_mode": {
    "name": "ipython",
    "version": 3
   },
   "file_extension": ".py",
   "mimetype": "text/x-python",
   "name": "python",
   "nbconvert_exporter": "python",
   "pygments_lexer": "ipython3",
   "version": "3.12.4"
  },
  "papermill": {
   "default_parameters": {},
   "duration": 13.803058,
   "end_time": "2023-11-03T12:13:16.903187",
   "environment_variables": {},
   "exception": null,
   "input_path": "__notebook__.ipynb",
   "output_path": "__notebook__.ipynb",
   "parameters": {},
   "start_time": "2023-11-03T12:13:03.100129",
   "version": "2.4.0"
  }
 },
 "nbformat": 4,
 "nbformat_minor": 5
}
